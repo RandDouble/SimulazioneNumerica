{
 "cells": [
  {
   "cell_type": "markdown",
   "metadata": {},
   "source": [
    "# <span style=\"color:green\"> Numerical Simulation Laboratory (NSL) </span>\n",
    "## <span style=\"color:blue\">  Numerical exercises 3</span>"
   ]
  },
  {
   "cell_type": "markdown",
   "metadata": {},
   "source": [
    "### Exercise 03.1 <span style=\"color:red\"> Plain vanilla option pricing </span>\n",
    "\n",
    "Black-Scholes theory assumes that the time evolution of the asset price is stochastic and exhibits geometric Brownian motion (GBM) with constant risk-free interest rate $r$ and volatility $\\sigma$.\n",
    "\n",
    "Black-Scholes <span style=\"color:blue\"> analytic solution </span> for the price at time t<T:\n",
    "- European Call-option price:\n",
    "$$ C\\left[ S(t),t \\right] = S(t) N(d_1) -K e^{-r(T-t)} N(d_2) $$\n",
    "- European Put-option price:\n",
    "$$ P\\left[ S(t),t \\right] = S(t) \\left[ N(d_1)-1\\right] -K e^{-r(T-t)} \\left[ N(d_2)-1\\right]$$\n",
    "\n",
    "where \n",
    "$$d_1 = \\frac{1}{\\sigma\\sqrt{T-t}}\\left[ \\ln \\left( \\frac{S(t)}{K} \\right) + \\left( r+\\frac{\\sigma^2}{2} (T-t) \\right)\\right]$$\n",
    "\n",
    "where $d_2 = d_1 - \\sigma\\sqrt{T-t}$, and where\n",
    "$$ N(x) = \\int_{-\\infty}^{x} dz \\, e^{-\\frac{z^2}{2}} = \\frac{1}{2} \\left[ 1+ {\\rm erf} \\left( \\frac{x}{\\sqrt{2}}\\right) \\right]$$\n",
    "is the cumulative of Gaussian $\\sim \\mathcal{N}(\\mu=0,\\sigma^2=1)$,\n",
    "and where\n",
    "$${\\rm erf}(x) = \\frac{2}{\\sqrt{\\pi}}\\int_{0}^{x} dz \\, e^{-z^2}$$"
   ]
  },
  {
   "cell_type": "markdown",
   "metadata": {},
   "source": [
    "By using the following parameters: \n",
    "- asset price at $t=0$: $S(0)=100$\n",
    "- delivery time: $T=1$\n",
    "- strike price: $K=100$\n",
    "- risk-free interest rate: $r=0.1$\n",
    "- volatility: $\\sigma=0.25$\n",
    "\n",
    "compute at time $t=0$ **via Monte Carlo** the European call-option price, $C[S(0),0]$, and put-option price, $P[S(0),0]$:"
   ]
  },
  {
   "cell_type": "markdown",
   "metadata": {},
   "source": [
    "1. <span style=\"color:red\"> By sampling **directly** the final asset price $S(T)$</span> for a $GBM(r,\\sigma^2)$\n",
    "2. <span style=\"color:red\"> By sampling the discretized $GBM(r,\\sigma^2)$ path of the asset price</span> \n",
    "dividing $[0,T]$ in $10^2$ time intervals: $S(0)$, $S(t_1)$, $S(t_2)$, ... up to $S(t_{100}=T=1)$"
   ]
  },
  {
   "cell_type": "markdown",
   "metadata": {},
   "source": [
    "<p style=\"border:2px; border-style:solid; border-color:#F5F5F5; padding: 1em; background-color:#F5F5F5\">\n",
    "    Remember that given an asset price $S\\sim GBM(\\mu,\\sigma^2)$, with initial value $S(0)$, then\n",
    "    $$S(t) = S(0) \\exp\\left[ \\left(\\mu-\\frac{1}{2}\\sigma^2\\right)t+\\sigma W(t)\\right]$$\n",
    "    where $W(t)\\sim\\mathcal{N}(0,t)$.\n",
    "    Moreover, since the increments of $W$ are independent and normally distributed, the simple recursive procedure for sampling discretized values of $S\\sim GBM(\\mu,\\sigma^2)$ at $t_1 < t_2 < … < t_n$ is:\n",
    "$$S(t_{i+1}) = S(t_i) \\exp\\left[ \\left(\\mu-\\frac{1}{2}\\sigma^2\\right)(t_{i+1}-t_i)\n",
    "    +\\sigma Z_{i+1}\\sqrt{t_{i+1}-t_i}\\right]$$\n",
    "    with $Z_i \\sim \\mathcal{N}(0,1)$\n",
    "</p>"
   ]
  },
  {
   "cell_type": "markdown",
   "metadata": {},
   "source": [
    "<span style=\"color:red\">Make four pictures for the estimation of the European call-option prices, $C[S(0),0]$ (direct and discretized), and put-option prices, $P[S(0),0]$ (direct and discretized), with their uncertainties </span> with a large number of asset prices at time $t=T$, say $M\\ge 10^4$, as a function of the number of blocks, $N$</font>. <span style=\"color:blue\"> As usual, in computing statistical uncertainties, use data blocking.</span>"
   ]
  },
  {
   "cell_type": "code",
   "execution_count": 20,
   "metadata": {},
   "outputs": [],
   "source": [
    "import scipy\n",
    "from scipy.special import erf\n",
    "import numpy as np\n",
    "from numpy import exp\n",
    "from numpy.lib.scimath import log, sqrt\n",
    "import pandas as pd\n",
    "import matplotlib.pyplot as plt"
   ]
  },
  {
   "cell_type": "code",
   "execution_count": 21,
   "metadata": {},
   "outputs": [
    {
     "data": {
      "text/html": [
       "<div>\n",
       "<style scoped>\n",
       "    .dataframe tbody tr th:only-of-type {\n",
       "        vertical-align: middle;\n",
       "    }\n",
       "\n",
       "    .dataframe tbody tr th {\n",
       "        vertical-align: top;\n",
       "    }\n",
       "\n",
       "    .dataframe thead th {\n",
       "        text-align: right;\n",
       "    }\n",
       "</style>\n",
       "<table border=\"1\" class=\"dataframe\">\n",
       "  <thead>\n",
       "    <tr style=\"text-align: right;\">\n",
       "      <th></th>\n",
       "      <th>Call_final</th>\n",
       "      <th>Call_final_err</th>\n",
       "      <th>Put_final</th>\n",
       "      <th>Put_final_err</th>\n",
       "      <th>Call_step</th>\n",
       "      <th>Call_step_err</th>\n",
       "      <th>Put_step</th>\n",
       "      <th>Put_step_err</th>\n",
       "    </tr>\n",
       "  </thead>\n",
       "  <tbody>\n",
       "    <tr>\n",
       "      <th>0</th>\n",
       "      <td>19.9457</td>\n",
       "      <td>0.000000</td>\n",
       "      <td>6.01033</td>\n",
       "      <td>0.000000</td>\n",
       "      <td>14.3276</td>\n",
       "      <td>0.000000</td>\n",
       "      <td>5.80127</td>\n",
       "      <td>0.000000</td>\n",
       "    </tr>\n",
       "    <tr>\n",
       "      <th>1</th>\n",
       "      <td>16.3919</td>\n",
       "      <td>3.553800</td>\n",
       "      <td>5.25373</td>\n",
       "      <td>0.756598</td>\n",
       "      <td>14.0616</td>\n",
       "      <td>0.265931</td>\n",
       "      <td>5.07533</td>\n",
       "      <td>0.725949</td>\n",
       "    </tr>\n",
       "    <tr>\n",
       "      <th>2</th>\n",
       "      <td>16.2222</td>\n",
       "      <td>2.058790</td>\n",
       "      <td>5.35789</td>\n",
       "      <td>0.449069</td>\n",
       "      <td>13.8356</td>\n",
       "      <td>0.273256</td>\n",
       "      <td>5.50412</td>\n",
       "      <td>0.599607</td>\n",
       "    </tr>\n",
       "    <tr>\n",
       "      <th>3</th>\n",
       "      <td>15.5931</td>\n",
       "      <td>1.585930</td>\n",
       "      <td>5.29209</td>\n",
       "      <td>0.324287</td>\n",
       "      <td>15.0358</td>\n",
       "      <td>1.215650</td>\n",
       "      <td>5.13910</td>\n",
       "      <td>0.559464</td>\n",
       "    </tr>\n",
       "    <tr>\n",
       "      <th>4</th>\n",
       "      <td>16.4741</td>\n",
       "      <td>1.511730</td>\n",
       "      <td>5.25883</td>\n",
       "      <td>0.253383</td>\n",
       "      <td>14.0865</td>\n",
       "      <td>1.337100</td>\n",
       "      <td>5.18511</td>\n",
       "      <td>0.435795</td>\n",
       "    </tr>\n",
       "    <tr>\n",
       "      <th>...</th>\n",
       "      <td>...</td>\n",
       "      <td>...</td>\n",
       "      <td>...</td>\n",
       "      <td>...</td>\n",
       "      <td>...</td>\n",
       "      <td>...</td>\n",
       "      <td>...</td>\n",
       "      <td>...</td>\n",
       "    </tr>\n",
       "    <tr>\n",
       "      <th>95</th>\n",
       "      <td>15.2075</td>\n",
       "      <td>0.217803</td>\n",
       "      <td>5.39267</td>\n",
       "      <td>0.079560</td>\n",
       "      <td>15.0029</td>\n",
       "      <td>0.235341</td>\n",
       "      <td>5.41393</td>\n",
       "      <td>0.086971</td>\n",
       "    </tr>\n",
       "    <tr>\n",
       "      <th>96</th>\n",
       "      <td>15.1998</td>\n",
       "      <td>0.215683</td>\n",
       "      <td>5.38127</td>\n",
       "      <td>0.079556</td>\n",
       "      <td>15.0103</td>\n",
       "      <td>0.233020</td>\n",
       "      <td>5.40759</td>\n",
       "      <td>0.086303</td>\n",
       "    </tr>\n",
       "    <tr>\n",
       "      <th>97</th>\n",
       "      <td>15.2433</td>\n",
       "      <td>0.217867</td>\n",
       "      <td>5.40266</td>\n",
       "      <td>0.081593</td>\n",
       "      <td>15.0069</td>\n",
       "      <td>0.230656</td>\n",
       "      <td>5.41348</td>\n",
       "      <td>0.085621</td>\n",
       "    </tr>\n",
       "    <tr>\n",
       "      <th>98</th>\n",
       "      <td>15.2672</td>\n",
       "      <td>0.216975</td>\n",
       "      <td>5.40744</td>\n",
       "      <td>0.080906</td>\n",
       "      <td>14.9954</td>\n",
       "      <td>0.228599</td>\n",
       "      <td>5.41376</td>\n",
       "      <td>0.084752</td>\n",
       "    </tr>\n",
       "    <tr>\n",
       "      <th>99</th>\n",
       "      <td>15.2630</td>\n",
       "      <td>0.214836</td>\n",
       "      <td>5.41563</td>\n",
       "      <td>0.080511</td>\n",
       "      <td>15.0096</td>\n",
       "      <td>0.226744</td>\n",
       "      <td>5.41062</td>\n",
       "      <td>0.083959</td>\n",
       "    </tr>\n",
       "  </tbody>\n",
       "</table>\n",
       "<p>100 rows × 8 columns</p>\n",
       "</div>"
      ],
      "text/plain": [
       "    Call_final  Call_final_err  Put_final  Put_final_err  Call_step  \\\n",
       "0      19.9457        0.000000    6.01033       0.000000    14.3276   \n",
       "1      16.3919        3.553800    5.25373       0.756598    14.0616   \n",
       "2      16.2222        2.058790    5.35789       0.449069    13.8356   \n",
       "3      15.5931        1.585930    5.29209       0.324287    15.0358   \n",
       "4      16.4741        1.511730    5.25883       0.253383    14.0865   \n",
       "..         ...             ...        ...            ...        ...   \n",
       "95     15.2075        0.217803    5.39267       0.079560    15.0029   \n",
       "96     15.1998        0.215683    5.38127       0.079556    15.0103   \n",
       "97     15.2433        0.217867    5.40266       0.081593    15.0069   \n",
       "98     15.2672        0.216975    5.40744       0.080906    14.9954   \n",
       "99     15.2630        0.214836    5.41563       0.080511    15.0096   \n",
       "\n",
       "    Call_step_err  Put_step  Put_step_err  \n",
       "0        0.000000   5.80127      0.000000  \n",
       "1        0.265931   5.07533      0.725949  \n",
       "2        0.273256   5.50412      0.599607  \n",
       "3        1.215650   5.13910      0.559464  \n",
       "4        1.337100   5.18511      0.435795  \n",
       "..            ...       ...           ...  \n",
       "95       0.235341   5.41393      0.086971  \n",
       "96       0.233020   5.40759      0.086303  \n",
       "97       0.230656   5.41348      0.085621  \n",
       "98       0.228599   5.41376      0.084752  \n",
       "99       0.226744   5.41062      0.083959  \n",
       "\n",
       "[100 rows x 8 columns]"
      ]
     },
     "execution_count": 21,
     "metadata": {},
     "output_type": "execute_result"
    }
   ],
   "source": [
    "df = pd.read_csv('eser_3/3_1/cost_option.csv')\n",
    "df"
   ]
  },
  {
   "cell_type": "code",
   "execution_count": 22,
   "metadata": {},
   "outputs": [
    {
     "data": {
      "text/plain": [
       "<ErrorbarContainer object of 3 artists>"
      ]
     },
     "execution_count": 22,
     "metadata": {},
     "output_type": "execute_result"
    },
    {
     "data": {
      "image/png": "[encoded data removed]",
      "text/plain": [
       "<Figure size 1000x1000 with 4 Axes>"
      ]
     },
     "metadata": {},
     "output_type": "display_data"
    }
   ],
   "source": [
    "fig, axs = plt.subplots(2, 2, figsize=(10, 10))\n",
    "x = np.arange(0, df.shape[0])\n",
    "axs[0, 0].errorbar(x, df['Call_final'], df['Call_final_err'])\n",
    "axs[0, 1].errorbar(x, df['Put_final'], df['Put_final_err'])\n",
    "axs[1, 0].errorbar(x, df['Call_step'], df['Call_step_err'])\n",
    "axs[1, 1].errorbar(x, df['Put_step'], df['Put_step_err'])\n"
   ]
  },
  {
   "cell_type": "markdown",
   "metadata": {},
   "source": [
    "### For comparison, Black-Scholes analytic solution:"
   ]
  },
  {
   "cell_type": "code",
   "execution_count": 10,
   "metadata": {},
   "outputs": [
    {
     "name": "stdout",
     "output_type": "stream",
     "text": [
      " == BLACK-SCHOLES ==\n",
      "call:  14.975790778311286\n",
      "put:  5.4595325819072364\n"
     ]
    }
   ],
   "source": [
    "# data\n",
    "S0 = 100.\n",
    "K = 100.\n",
    "T = 1.\n",
    "r = 0.1\n",
    "sigma = 0.25\n",
    "t=0\n",
    "\n",
    "def N(x):\n",
    "    return 0.5 * (1. + erf(x / sqrt(2.)))\n",
    "\n",
    "def black_scholes(S0, K, T, r, sigma):\n",
    "    d1 = 1./(sigma * sqrt(T)) * (log(S0 / K) + (r + (sigma**2) / 2.) * T)\n",
    "    d2 = d1 - sigma * sqrt(T)\n",
    "    C = S0 * N(d1) - K * exp(-r * T) * N(d2)\n",
    "    P = S0 *(N(d1) - 1.) - K * exp(-r * T) * (N(d2)-1.)\n",
    "    return C, P\n",
    "\n",
    "if __name__ == \"__main__\":\n",
    "    call, put = black_scholes(S0, K, T, r, sigma)\n",
    "    print(\" == BLACK-SCHOLES ==\")\n",
    "    print(\"call: \", call)\n",
    "    print(\"put: \", put)"
   ]
  }
 ],
 "metadata": {
  "kernelspec": {
   "display_name": "Python 3 (ipykernel)",
   "language": "python",
   "name": "python3"
  },
  "language_info": {
   "codemirror_mode": {
    "name": "ipython",
    "version": 3
   },
   "file_extension": ".py",
   "mimetype": "text/x-python",
   "name": "python",
   "nbconvert_exporter": "python",
   "pygments_lexer": "ipython3",
   "version": "3.10.8"
  }
 },
 "nbformat": 4,
 "nbformat_minor": 4
}
