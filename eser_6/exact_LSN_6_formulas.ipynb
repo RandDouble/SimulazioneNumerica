{
 "cells": [
  {
   "cell_type": "code",
   "execution_count": 17,
   "id": "ca0ebe9c-f189-42b5-a1aa-be2c606c0ff7",
   "metadata": {},
   "outputs": [],
   "source": [
    "import sympy as sm"
   ]
  },
  {
   "cell_type": "code",
   "execution_count": 18,
   "id": "cf8d3acd-c194-420b-956c-4c0f12b122f5",
   "metadata": {},
   "outputs": [],
   "source": [
    "J = sm.symbols('J', real=True, nonnegative=True)\n",
    "h = sm.symbols('h', real=True)\n",
    "beta = sm.symbols('beta', real=True, nonnegative=True)\n",
    "N = sm.symbols('N', integer=True)\n",
    "lbd_1, lbd_2 = sm.symbols('lambda_1 lambda_2')"
   ]
  },
  {
   "cell_type": "code",
   "execution_count": 3,
   "id": "b6f6c1ed-6492-4270-8cab-9b6aa2627546",
   "metadata": {},
   "outputs": [
    {
     "data": {
      "text/plain": [
       "(J, h, beta, N, lambda_1, lambda_2)"
      ]
     },
     "execution_count": 3,
     "metadata": {},
     "output_type": "execute_result"
    }
   ],
   "source": [
    "J, h, beta, N, lbd_1, lbd_2"
   ]
  },
  {
   "cell_type": "code",
   "execution_count": 4,
   "id": "b6fe9e4a-6d1a-40ba-a394-9212fd78d2e1",
   "metadata": {},
   "outputs": [
    {
     "data": {
      "text/latex": [
       "$\\displaystyle \\left(e^{2 J \\beta} \\cosh^{2}{\\left(\\beta h \\right)} - 2 \\sinh{\\left(2 J \\beta \\right)}\\right)^{0.5} + e^{J \\beta} \\cosh{\\left(\\beta h \\right)}$"
      ],
      "text/plain": [
       "(exp(2*J*beta)*cosh(beta*h)**2 - 2*sinh(2*J*beta))**0.5 + exp(J*beta)*cosh(beta*h)"
      ]
     },
     "execution_count": 4,
     "metadata": {},
     "output_type": "execute_result"
    }
   ],
   "source": [
    "lbd_1 =  sm.exp(beta * J) * sm.cosh(beta * h) + (sm.exp(2*beta*J) * sm.cosh(beta * h)**2 - 2 * sm.sinh(2 * beta * J) ) ** 0.5\n",
    "lbd_1"
   ]
  },
  {
   "cell_type": "raw",
   "id": "c3f81797-fb8c-44c1-8825-4ef9ef95957d",
   "metadata": {},
   "source": [
    "lbd_2 = sm.exp(beta * J) * sm.cosh(beta * h) - (sm.exp(2*beta*J) * sm.cosh(beta * h)**2 - 2 * sm.sinh(2 * beta * J) ) ** 0.5\n",
    "lbd_2"
   ]
  },
  {
   "cell_type": "code",
   "execution_count": 6,
   "id": "39dd0885-1b24-44fa-9759-341536214dfc",
   "metadata": {},
   "outputs": [
    {
     "data": {
      "text/latex": [
       "$\\displaystyle \\left(- \\left(e^{2 J \\beta} \\cosh^{2}{\\left(\\beta h \\right)} - 2 \\sinh{\\left(2 J \\beta \\right)}\\right)^{0.5} + e^{J \\beta} \\cosh{\\left(\\beta h \\right)}\\right)^{N} + \\left(\\left(e^{2 J \\beta} \\cosh^{2}{\\left(\\beta h \\right)} - 2 \\sinh{\\left(2 J \\beta \\right)}\\right)^{0.5} + e^{J \\beta} \\cosh{\\left(\\beta h \\right)}\\right)^{N}$"
      ],
      "text/plain": [
       "(-(exp(2*J*beta)*cosh(beta*h)**2 - 2*sinh(2*J*beta))**0.5 + exp(J*beta)*cosh(beta*h))**N + ((exp(2*J*beta)*cosh(beta*h)**2 - 2*sinh(2*J*beta))**0.5 + exp(J*beta)*cosh(beta*h))**N"
      ]
     },
     "execution_count": 6,
     "metadata": {},
     "output_type": "execute_result"
    }
   ],
   "source": [
    "Z = lbd_1 ** N + lbd_2 ** N\n",
    "Z"
   ]
  },
  {
   "cell_type": "code",
   "execution_count": 7,
   "id": "b21c5c31-9284-47f6-81bf-d03a10b2afb2",
   "metadata": {},
   "outputs": [
    {
     "data": {
      "text/latex": [
       "$\\displaystyle \\frac{\\beta^{2} \\left(- \\frac{N \\left(\\frac{\\left(- \\left(e^{2 J \\beta} \\cosh^{2}{\\left(\\beta h \\right)} - 2 \\sinh{\\left(2 J \\beta \\right)}\\right)^{0.5} + e^{J \\beta} \\cosh{\\left(\\beta h \\right)}\\right)^{N} \\left(J e^{J \\beta} \\cosh{\\left(\\beta h \\right)} + h e^{J \\beta} \\sinh{\\left(\\beta h \\right)} - \\frac{1.0 J e^{2 J \\beta} \\cosh^{2}{\\left(\\beta h \\right)} - 2.0 J \\cosh{\\left(2 J \\beta \\right)} + 1.0 h e^{2 J \\beta} \\sinh{\\left(\\beta h \\right)} \\cosh{\\left(\\beta h \\right)}}{\\left(e^{2 J \\beta} \\cosh^{2}{\\left(\\beta h \\right)} - 2 \\sinh{\\left(2 J \\beta \\right)}\\right)^{0.5}}\\right)}{\\left(e^{2 J \\beta} \\cosh^{2}{\\left(\\beta h \\right)} - 2 \\sinh{\\left(2 J \\beta \\right)}\\right)^{0.5} - e^{J \\beta} \\cosh{\\left(\\beta h \\right)}} - \\frac{\\left(\\left(e^{2 J \\beta} \\cosh^{2}{\\left(\\beta h \\right)} - 2 \\sinh{\\left(2 J \\beta \\right)}\\right)^{0.5} + e^{J \\beta} \\cosh{\\left(\\beta h \\right)}\\right)^{N} \\left(J e^{J \\beta} \\cosh{\\left(\\beta h \\right)} + h e^{J \\beta} \\sinh{\\left(\\beta h \\right)} + \\frac{1.0 J e^{2 J \\beta} \\cosh^{2}{\\left(\\beta h \\right)} - 2.0 J \\cosh{\\left(2 J \\beta \\right)} + 1.0 h e^{2 J \\beta} \\sinh{\\left(\\beta h \\right)} \\cosh{\\left(\\beta h \\right)}}{\\left(e^{2 J \\beta} \\cosh^{2}{\\left(\\beta h \\right)} - 2 \\sinh{\\left(2 J \\beta \\right)}\\right)^{0.5}}\\right)}{\\left(e^{2 J \\beta} \\cosh^{2}{\\left(\\beta h \\right)} - 2 \\sinh{\\left(2 J \\beta \\right)}\\right)^{0.5} + e^{J \\beta} \\cosh{\\left(\\beta h \\right)}}\\right)^{2}}{\\left(- \\left(e^{2 J \\beta} \\cosh^{2}{\\left(\\beta h \\right)} - 2 \\sinh{\\left(2 J \\beta \\right)}\\right)^{0.5} + e^{J \\beta} \\cosh{\\left(\\beta h \\right)}\\right)^{N} + \\left(\\left(e^{2 J \\beta} \\cosh^{2}{\\left(\\beta h \\right)} - 2 \\sinh{\\left(2 J \\beta \\right)}\\right)^{0.5} + e^{J \\beta} \\cosh{\\left(\\beta h \\right)}\\right)^{N}} + \\frac{N \\left(- \\left(e^{2 J \\beta} \\cosh^{2}{\\left(\\beta h \\right)} - 2 \\sinh{\\left(2 J \\beta \\right)}\\right)^{0.5} + e^{J \\beta} \\cosh{\\left(\\beta h \\right)}\\right)^{N} \\left(J e^{J \\beta} \\cosh{\\left(\\beta h \\right)} + h e^{J \\beta} \\sinh{\\left(\\beta h \\right)} - \\frac{1.0 J e^{2 J \\beta} \\cosh^{2}{\\left(\\beta h \\right)} - 2.0 J \\cosh{\\left(2 J \\beta \\right)} + 1.0 h e^{2 J \\beta} \\sinh{\\left(\\beta h \\right)} \\cosh{\\left(\\beta h \\right)}}{\\left(e^{2 J \\beta} \\cosh^{2}{\\left(\\beta h \\right)} - 2 \\sinh{\\left(2 J \\beta \\right)}\\right)^{0.5}}\\right)^{2}}{\\left(\\left(e^{2 J \\beta} \\cosh^{2}{\\left(\\beta h \\right)} - 2 \\sinh{\\left(2 J \\beta \\right)}\\right)^{0.5} - e^{J \\beta} \\cosh{\\left(\\beta h \\right)}\\right)^{2}} + \\frac{N \\left(\\left(e^{2 J \\beta} \\cosh^{2}{\\left(\\beta h \\right)} - 2 \\sinh{\\left(2 J \\beta \\right)}\\right)^{0.5} + e^{J \\beta} \\cosh{\\left(\\beta h \\right)}\\right)^{N} \\left(J e^{J \\beta} \\cosh{\\left(\\beta h \\right)} + h e^{J \\beta} \\sinh{\\left(\\beta h \\right)} + \\frac{1.0 J e^{2 J \\beta} \\cosh^{2}{\\left(\\beta h \\right)} - 2.0 J \\cosh{\\left(2 J \\beta \\right)} + 1.0 h e^{2 J \\beta} \\sinh{\\left(\\beta h \\right)} \\cosh{\\left(\\beta h \\right)}}{\\left(e^{2 J \\beta} \\cosh^{2}{\\left(\\beta h \\right)} - 2 \\sinh{\\left(2 J \\beta \\right)}\\right)^{0.5}}\\right)^{2}}{\\left(\\left(e^{2 J \\beta} \\cosh^{2}{\\left(\\beta h \\right)} - 2 \\sinh{\\left(2 J \\beta \\right)}\\right)^{0.5} + e^{J \\beta} \\cosh{\\left(\\beta h \\right)}\\right)^{2}} - \\frac{\\left(- \\left(e^{2 J \\beta} \\cosh^{2}{\\left(\\beta h \\right)} - 2 \\sinh{\\left(2 J \\beta \\right)}\\right)^{0.5} + e^{J \\beta} \\cosh{\\left(\\beta h \\right)}\\right)^{N} \\left(J^{2} e^{J \\beta} \\cosh{\\left(\\beta h \\right)} + 2 J h e^{J \\beta} \\sinh{\\left(\\beta h \\right)} + h^{2} e^{J \\beta} \\cosh{\\left(\\beta h \\right)} + \\frac{4.0 \\left(0.5 J e^{2 J \\beta} \\cosh^{2}{\\left(\\beta h \\right)} - J \\cosh{\\left(2 J \\beta \\right)} + 0.5 h e^{2 J \\beta} \\sinh{\\left(\\beta h \\right)} \\cosh{\\left(\\beta h \\right)}\\right)^{2}}{\\left(e^{2 J \\beta} \\cosh^{2}{\\left(\\beta h \\right)} - 2 \\sinh{\\left(2 J \\beta \\right)}\\right)^{1.5}} - \\frac{2.0 J^{2} e^{2 J \\beta} \\cosh^{2}{\\left(\\beta h \\right)} - 4.0 J^{2} \\sinh{\\left(2 J \\beta \\right)} + 4.0 J h e^{2 J \\beta} \\sinh{\\left(\\beta h \\right)} \\cosh{\\left(\\beta h \\right)} + 1.0 h^{2} e^{2 J \\beta} \\sinh^{2}{\\left(\\beta h \\right)} + 1.0 h^{2} e^{2 J \\beta} \\cosh^{2}{\\left(\\beta h \\right)}}{\\left(e^{2 J \\beta} \\cosh^{2}{\\left(\\beta h \\right)} - 2 \\sinh{\\left(2 J \\beta \\right)}\\right)^{0.5}}\\right)}{\\left(e^{2 J \\beta} \\cosh^{2}{\\left(\\beta h \\right)} - 2 \\sinh{\\left(2 J \\beta \\right)}\\right)^{0.5} - e^{J \\beta} \\cosh{\\left(\\beta h \\right)}} - \\frac{\\left(- \\left(e^{2 J \\beta} \\cosh^{2}{\\left(\\beta h \\right)} - 2 \\sinh{\\left(2 J \\beta \\right)}\\right)^{0.5} + e^{J \\beta} \\cosh{\\left(\\beta h \\right)}\\right)^{N} \\left(J e^{J \\beta} \\cosh{\\left(\\beta h \\right)} + h e^{J \\beta} \\sinh{\\left(\\beta h \\right)} - \\frac{1.0 J e^{2 J \\beta} \\cosh^{2}{\\left(\\beta h \\right)} - 2.0 J \\cosh{\\left(2 J \\beta \\right)} + 1.0 h e^{2 J \\beta} \\sinh{\\left(\\beta h \\right)} \\cosh{\\left(\\beta h \\right)}}{\\left(e^{2 J \\beta} \\cosh^{2}{\\left(\\beta h \\right)} - 2 \\sinh{\\left(2 J \\beta \\right)}\\right)^{0.5}}\\right)^{2}}{\\left(\\left(e^{2 J \\beta} \\cosh^{2}{\\left(\\beta h \\right)} - 2 \\sinh{\\left(2 J \\beta \\right)}\\right)^{0.5} - e^{J \\beta} \\cosh{\\left(\\beta h \\right)}\\right)^{2}} + \\frac{\\left(\\left(e^{2 J \\beta} \\cosh^{2}{\\left(\\beta h \\right)} - 2 \\sinh{\\left(2 J \\beta \\right)}\\right)^{0.5} + e^{J \\beta} \\cosh{\\left(\\beta h \\right)}\\right)^{N} \\left(J^{2} e^{J \\beta} \\cosh{\\left(\\beta h \\right)} + 2 J h e^{J \\beta} \\sinh{\\left(\\beta h \\right)} + h^{2} e^{J \\beta} \\cosh{\\left(\\beta h \\right)} - \\frac{4.0 \\left(0.5 J e^{2 J \\beta} \\cosh^{2}{\\left(\\beta h \\right)} - J \\cosh{\\left(2 J \\beta \\right)} + 0.5 h e^{2 J \\beta} \\sinh{\\left(\\beta h \\right)} \\cosh{\\left(\\beta h \\right)}\\right)^{2}}{\\left(e^{2 J \\beta} \\cosh^{2}{\\left(\\beta h \\right)} - 2 \\sinh{\\left(2 J \\beta \\right)}\\right)^{1.5}} + \\frac{2.0 J^{2} e^{2 J \\beta} \\cosh^{2}{\\left(\\beta h \\right)} - 4.0 J^{2} \\sinh{\\left(2 J \\beta \\right)} + 4.0 J h e^{2 J \\beta} \\sinh{\\left(\\beta h \\right)} \\cosh{\\left(\\beta h \\right)} + 1.0 h^{2} e^{2 J \\beta} \\sinh^{2}{\\left(\\beta h \\right)} + 1.0 h^{2} e^{2 J \\beta} \\cosh^{2}{\\left(\\beta h \\right)}}{\\left(e^{2 J \\beta} \\cosh^{2}{\\left(\\beta h \\right)} - 2 \\sinh{\\left(2 J \\beta \\right)}\\right)^{0.5}}\\right)}{\\left(e^{2 J \\beta} \\cosh^{2}{\\left(\\beta h \\right)} - 2 \\sinh{\\left(2 J \\beta \\right)}\\right)^{0.5} + e^{J \\beta} \\cosh{\\left(\\beta h \\right)}} - \\frac{\\left(\\left(e^{2 J \\beta} \\cosh^{2}{\\left(\\beta h \\right)} - 2 \\sinh{\\left(2 J \\beta \\right)}\\right)^{0.5} + e^{J \\beta} \\cosh{\\left(\\beta h \\right)}\\right)^{N} \\left(J e^{J \\beta} \\cosh{\\left(\\beta h \\right)} + h e^{J \\beta} \\sinh{\\left(\\beta h \\right)} + \\frac{1.0 J e^{2 J \\beta} \\cosh^{2}{\\left(\\beta h \\right)} - 2.0 J \\cosh{\\left(2 J \\beta \\right)} + 1.0 h e^{2 J \\beta} \\sinh{\\left(\\beta h \\right)} \\cosh{\\left(\\beta h \\right)}}{\\left(e^{2 J \\beta} \\cosh^{2}{\\left(\\beta h \\right)} - 2 \\sinh{\\left(2 J \\beta \\right)}\\right)^{0.5}}\\right)^{2}}{\\left(\\left(e^{2 J \\beta} \\cosh^{2}{\\left(\\beta h \\right)} - 2 \\sinh{\\left(2 J \\beta \\right)}\\right)^{0.5} + e^{J \\beta} \\cosh{\\left(\\beta h \\right)}\\right)^{2}}\\right)}{\\left(- \\left(e^{2 J \\beta} \\cosh^{2}{\\left(\\beta h \\right)} - 2 \\sinh{\\left(2 J \\beta \\right)}\\right)^{0.5} + e^{J \\beta} \\cosh{\\left(\\beta h \\right)}\\right)^{N} + \\left(\\left(e^{2 J \\beta} \\cosh^{2}{\\left(\\beta h \\right)} - 2 \\sinh{\\left(2 J \\beta \\right)}\\right)^{0.5} + e^{J \\beta} \\cosh{\\left(\\beta h \\right)}\\right)^{N}}$"
      ],
      "text/plain": [
       "beta**2*(-N*((-(exp(2*J*beta)*cosh(beta*h)**2 - 2*sinh(2*J*beta))**0.5 + exp(J*beta)*cosh(beta*h))**N*(J*exp(J*beta)*cosh(beta*h) + h*exp(J*beta)*sinh(beta*h) - (1.0*J*exp(2*J*beta)*cosh(beta*h)**2 - 2.0*J*cosh(2*J*beta) + 1.0*h*exp(2*J*beta)*sinh(beta*h)*cosh(beta*h))/(exp(2*J*beta)*cosh(beta*h)**2 - 2*sinh(2*J*beta))**0.5)/((exp(2*J*beta)*cosh(beta*h)**2 - 2*sinh(2*J*beta))**0.5 - exp(J*beta)*cosh(beta*h)) - ((exp(2*J*beta)*cosh(beta*h)**2 - 2*sinh(2*J*beta))**0.5 + exp(J*beta)*cosh(beta*h))**N*(J*exp(J*beta)*cosh(beta*h) + h*exp(J*beta)*sinh(beta*h) + (1.0*J*exp(2*J*beta)*cosh(beta*h)**2 - 2.0*J*cosh(2*J*beta) + 1.0*h*exp(2*J*beta)*sinh(beta*h)*cosh(beta*h))/(exp(2*J*beta)*cosh(beta*h)**2 - 2*sinh(2*J*beta))**0.5)/((exp(2*J*beta)*cosh(beta*h)**2 - 2*sinh(2*J*beta))**0.5 + exp(J*beta)*cosh(beta*h)))**2/((-(exp(2*J*beta)*cosh(beta*h)**2 - 2*sinh(2*J*beta))**0.5 + exp(J*beta)*cosh(beta*h))**N + ((exp(2*J*beta)*cosh(beta*h)**2 - 2*sinh(2*J*beta))**0.5 + exp(J*beta)*cosh(beta*h))**N) + N*(-(exp(2*J*beta)*cosh(beta*h)**2 - 2*sinh(2*J*beta))**0.5 + exp(J*beta)*cosh(beta*h))**N*(J*exp(J*beta)*cosh(beta*h) + h*exp(J*beta)*sinh(beta*h) - (1.0*J*exp(2*J*beta)*cosh(beta*h)**2 - 2.0*J*cosh(2*J*beta) + 1.0*h*exp(2*J*beta)*sinh(beta*h)*cosh(beta*h))/(exp(2*J*beta)*cosh(beta*h)**2 - 2*sinh(2*J*beta))**0.5)**2/((exp(2*J*beta)*cosh(beta*h)**2 - 2*sinh(2*J*beta))**0.5 - exp(J*beta)*cosh(beta*h))**2 + N*((exp(2*J*beta)*cosh(beta*h)**2 - 2*sinh(2*J*beta))**0.5 + exp(J*beta)*cosh(beta*h))**N*(J*exp(J*beta)*cosh(beta*h) + h*exp(J*beta)*sinh(beta*h) + (1.0*J*exp(2*J*beta)*cosh(beta*h)**2 - 2.0*J*cosh(2*J*beta) + 1.0*h*exp(2*J*beta)*sinh(beta*h)*cosh(beta*h))/(exp(2*J*beta)*cosh(beta*h)**2 - 2*sinh(2*J*beta))**0.5)**2/((exp(2*J*beta)*cosh(beta*h)**2 - 2*sinh(2*J*beta))**0.5 + exp(J*beta)*cosh(beta*h))**2 - (-(exp(2*J*beta)*cosh(beta*h)**2 - 2*sinh(2*J*beta))**0.5 + exp(J*beta)*cosh(beta*h))**N*(J**2*exp(J*beta)*cosh(beta*h) + 2*J*h*exp(J*beta)*sinh(beta*h) + h**2*exp(J*beta)*cosh(beta*h) + 4.0*(0.5*J*exp(2*J*beta)*cosh(beta*h)**2 - J*cosh(2*J*beta) + 0.5*h*exp(2*J*beta)*sinh(beta*h)*cosh(beta*h))**2/(exp(2*J*beta)*cosh(beta*h)**2 - 2*sinh(2*J*beta))**1.5 - (2.0*J**2*exp(2*J*beta)*cosh(beta*h)**2 - 4.0*J**2*sinh(2*J*beta) + 4.0*J*h*exp(2*J*beta)*sinh(beta*h)*cosh(beta*h) + 1.0*h**2*exp(2*J*beta)*sinh(beta*h)**2 + 1.0*h**2*exp(2*J*beta)*cosh(beta*h)**2)/(exp(2*J*beta)*cosh(beta*h)**2 - 2*sinh(2*J*beta))**0.5)/((exp(2*J*beta)*cosh(beta*h)**2 - 2*sinh(2*J*beta))**0.5 - exp(J*beta)*cosh(beta*h)) - (-(exp(2*J*beta)*cosh(beta*h)**2 - 2*sinh(2*J*beta))**0.5 + exp(J*beta)*cosh(beta*h))**N*(J*exp(J*beta)*cosh(beta*h) + h*exp(J*beta)*sinh(beta*h) - (1.0*J*exp(2*J*beta)*cosh(beta*h)**2 - 2.0*J*cosh(2*J*beta) + 1.0*h*exp(2*J*beta)*sinh(beta*h)*cosh(beta*h))/(exp(2*J*beta)*cosh(beta*h)**2 - 2*sinh(2*J*beta))**0.5)**2/((exp(2*J*beta)*cosh(beta*h)**2 - 2*sinh(2*J*beta))**0.5 - exp(J*beta)*cosh(beta*h))**2 + ((exp(2*J*beta)*cosh(beta*h)**2 - 2*sinh(2*J*beta))**0.5 + exp(J*beta)*cosh(beta*h))**N*(J**2*exp(J*beta)*cosh(beta*h) + 2*J*h*exp(J*beta)*sinh(beta*h) + h**2*exp(J*beta)*cosh(beta*h) - 4.0*(0.5*J*exp(2*J*beta)*cosh(beta*h)**2 - J*cosh(2*J*beta) + 0.5*h*exp(2*J*beta)*sinh(beta*h)*cosh(beta*h))**2/(exp(2*J*beta)*cosh(beta*h)**2 - 2*sinh(2*J*beta))**1.5 + (2.0*J**2*exp(2*J*beta)*cosh(beta*h)**2 - 4.0*J**2*sinh(2*J*beta) + 4.0*J*h*exp(2*J*beta)*sinh(beta*h)*cosh(beta*h) + 1.0*h**2*exp(2*J*beta)*sinh(beta*h)**2 + 1.0*h**2*exp(2*J*beta)*cosh(beta*h)**2)/(exp(2*J*beta)*cosh(beta*h)**2 - 2*sinh(2*J*beta))**0.5)/((exp(2*J*beta)*cosh(beta*h)**2 - 2*sinh(2*J*beta))**0.5 + exp(J*beta)*cosh(beta*h)) - ((exp(2*J*beta)*cosh(beta*h)**2 - 2*sinh(2*J*beta))**0.5 + exp(J*beta)*cosh(beta*h))**N*(J*exp(J*beta)*cosh(beta*h) + h*exp(J*beta)*sinh(beta*h) + (1.0*J*exp(2*J*beta)*cosh(beta*h)**2 - 2.0*J*cosh(2*J*beta) + 1.0*h*exp(2*J*beta)*sinh(beta*h)*cosh(beta*h))/(exp(2*J*beta)*cosh(beta*h)**2 - 2*sinh(2*J*beta))**0.5)**2/((exp(2*J*beta)*cosh(beta*h)**2 - 2*sinh(2*J*beta))**0.5 + exp(J*beta)*cosh(beta*h))**2)/((-(exp(2*J*beta)*cosh(beta*h)**2 - 2*sinh(2*J*beta))**0.5 + exp(J*beta)*cosh(beta*h))**N + ((exp(2*J*beta)*cosh(beta*h)**2 - 2*sinh(2*J*beta))**0.5 + exp(J*beta)*cosh(beta*h))**N)"
      ]
     },
     "execution_count": 7,
     "metadata": {},
     "output_type": "execute_result"
    }
   ],
   "source": [
    "cv = sm.diff(sm.log(Z), beta,2) / N * beta**2\n",
    "cv"
   ]
  },
  {
   "cell_type": "code",
   "execution_count": 8,
   "id": "8d46568f-f94e-470c-a182-c29ee818bcaf",
   "metadata": {},
   "outputs": [
    {
     "data": {
      "text/plain": [
       "'beta**2*(-N*((-(math.exp(2*J*beta)*math.cosh(beta*h)**2 - 2*math.sinh(2*J*beta))**0.5 + math.exp(J*beta)*math.cosh(beta*h))**N*(J*math.exp(J*beta)*math.cosh(beta*h) + h*math.exp(J*beta)*math.sinh(beta*h) - (math.exp(2*J*beta)*math.cosh(beta*h)**2 - 2*math.sinh(2*J*beta))**(-0.5)*(1.0*J*math.exp(2*J*beta)*math.cosh(beta*h)**2 - 2.0*J*math.cosh(2*J*beta) + 1.0*h*math.exp(2*J*beta)*math.sinh(beta*h)*math.cosh(beta*h)))/((math.exp(2*J*beta)*math.cosh(beta*h)**2 - 2*math.sinh(2*J*beta))**0.5 - math.exp(J*beta)*math.cosh(beta*h)) - ((math.exp(2*J*beta)*math.cosh(beta*h)**2 - 2*math.sinh(2*J*beta))**0.5 + math.exp(J*beta)*math.cosh(beta*h))**N*(J*math.exp(J*beta)*math.cosh(beta*h) + h*math.exp(J*beta)*math.sinh(beta*h) + (math.exp(2*J*beta)*math.cosh(beta*h)**2 - 2*math.sinh(2*J*beta))**(-0.5)*(1.0*J*math.exp(2*J*beta)*math.cosh(beta*h)**2 - 2.0*J*math.cosh(2*J*beta) + 1.0*h*math.exp(2*J*beta)*math.sinh(beta*h)*math.cosh(beta*h)))/((math.exp(2*J*beta)*math.cosh(beta*h)**2 - 2*math.sinh(2*J*beta))**0.5 + math.exp(J*beta)*math.cosh(beta*h)))**2/((-(math.exp(2*J*beta)*math.cosh(beta*h)**2 - 2*math.sinh(2*J*beta))**0.5 + math.exp(J*beta)*math.cosh(beta*h))**N + ((math.exp(2*J*beta)*math.cosh(beta*h)**2 - 2*math.sinh(2*J*beta))**0.5 + math.exp(J*beta)*math.cosh(beta*h))**N) + N*(-(math.exp(2*J*beta)*math.cosh(beta*h)**2 - 2*math.sinh(2*J*beta))**0.5 + math.exp(J*beta)*math.cosh(beta*h))**N*(J*math.exp(J*beta)*math.cosh(beta*h) + h*math.exp(J*beta)*math.sinh(beta*h) - (math.exp(2*J*beta)*math.cosh(beta*h)**2 - 2*math.sinh(2*J*beta))**(-0.5)*(1.0*J*math.exp(2*J*beta)*math.cosh(beta*h)**2 - 2.0*J*math.cosh(2*J*beta) + 1.0*h*math.exp(2*J*beta)*math.sinh(beta*h)*math.cosh(beta*h)))**2/((math.exp(2*J*beta)*math.cosh(beta*h)**2 - 2*math.sinh(2*J*beta))**0.5 - math.exp(J*beta)*math.cosh(beta*h))**2 + N*((math.exp(2*J*beta)*math.cosh(beta*h)**2 - 2*math.sinh(2*J*beta))**0.5 + math.exp(J*beta)*math.cosh(beta*h))**N*(J*math.exp(J*beta)*math.cosh(beta*h) + h*math.exp(J*beta)*math.sinh(beta*h) + (math.exp(2*J*beta)*math.cosh(beta*h)**2 - 2*math.sinh(2*J*beta))**(-0.5)*(1.0*J*math.exp(2*J*beta)*math.cosh(beta*h)**2 - 2.0*J*math.cosh(2*J*beta) + 1.0*h*math.exp(2*J*beta)*math.sinh(beta*h)*math.cosh(beta*h)))**2/((math.exp(2*J*beta)*math.cosh(beta*h)**2 - 2*math.sinh(2*J*beta))**0.5 + math.exp(J*beta)*math.cosh(beta*h))**2 - (-(math.exp(2*J*beta)*math.cosh(beta*h)**2 - 2*math.sinh(2*J*beta))**0.5 + math.exp(J*beta)*math.cosh(beta*h))**N*(J**2*math.exp(J*beta)*math.cosh(beta*h) + 2*J*h*math.exp(J*beta)*math.sinh(beta*h) + h**2*math.exp(J*beta)*math.cosh(beta*h) + 4.0*(math.exp(2*J*beta)*math.cosh(beta*h)**2 - 2*math.sinh(2*J*beta))**(-1.5)*(0.5*J*math.exp(2*J*beta)*math.cosh(beta*h)**2 - J*math.cosh(2*J*beta) + 0.5*h*math.exp(2*J*beta)*math.sinh(beta*h)*math.cosh(beta*h))**2 - (math.exp(2*J*beta)*math.cosh(beta*h)**2 - 2*math.sinh(2*J*beta))**(-0.5)*(2.0*J**2*math.exp(2*J*beta)*math.cosh(beta*h)**2 - 4.0*J**2*math.sinh(2*J*beta) + 4.0*J*h*math.exp(2*J*beta)*math.sinh(beta*h)*math.cosh(beta*h) + 1.0*h**2*math.exp(2*J*beta)*math.sinh(beta*h)**2 + 1.0*h**2*math.exp(2*J*beta)*math.cosh(beta*h)**2))/((math.exp(2*J*beta)*math.cosh(beta*h)**2 - 2*math.sinh(2*J*beta))**0.5 - math.exp(J*beta)*math.cosh(beta*h)) - (-(math.exp(2*J*beta)*math.cosh(beta*h)**2 - 2*math.sinh(2*J*beta))**0.5 + math.exp(J*beta)*math.cosh(beta*h))**N*(J*math.exp(J*beta)*math.cosh(beta*h) + h*math.exp(J*beta)*math.sinh(beta*h) - (math.exp(2*J*beta)*math.cosh(beta*h)**2 - 2*math.sinh(2*J*beta))**(-0.5)*(1.0*J*math.exp(2*J*beta)*math.cosh(beta*h)**2 - 2.0*J*math.cosh(2*J*beta) + 1.0*h*math.exp(2*J*beta)*math.sinh(beta*h)*math.cosh(beta*h)))**2/((math.exp(2*J*beta)*math.cosh(beta*h)**2 - 2*math.sinh(2*J*beta))**0.5 - math.exp(J*beta)*math.cosh(beta*h))**2 + ((math.exp(2*J*beta)*math.cosh(beta*h)**2 - 2*math.sinh(2*J*beta))**0.5 + math.exp(J*beta)*math.cosh(beta*h))**N*(J**2*math.exp(J*beta)*math.cosh(beta*h) + 2*J*h*math.exp(J*beta)*math.sinh(beta*h) + h**2*math.exp(J*beta)*math.cosh(beta*h) - 4.0*(math.exp(2*J*beta)*math.cosh(beta*h)**2 - 2*math.sinh(2*J*beta))**(-1.5)*(0.5*J*math.exp(2*J*beta)*math.cosh(beta*h)**2 - J*math.cosh(2*J*beta) + 0.5*h*math.exp(2*J*beta)*math.sinh(beta*h)*math.cosh(beta*h))**2 + (math.exp(2*J*beta)*math.cosh(beta*h)**2 - 2*math.sinh(2*J*beta))**(-0.5)*(2.0*J**2*math.exp(2*J*beta)*math.cosh(beta*h)**2 - 4.0*J**2*math.sinh(2*J*beta) + 4.0*J*h*math.exp(2*J*beta)*math.sinh(beta*h)*math.cosh(beta*h) + 1.0*h**2*math.exp(2*J*beta)*math.sinh(beta*h)**2 + 1.0*h**2*math.exp(2*J*beta)*math.cosh(beta*h)**2))/((math.exp(2*J*beta)*math.cosh(beta*h)**2 - 2*math.sinh(2*J*beta))**0.5 + math.exp(J*beta)*math.cosh(beta*h)) - ((math.exp(2*J*beta)*math.cosh(beta*h)**2 - 2*math.sinh(2*J*beta))**0.5 + math.exp(J*beta)*math.cosh(beta*h))**N*(J*math.exp(J*beta)*math.cosh(beta*h) + h*math.exp(J*beta)*math.sinh(beta*h) + (math.exp(2*J*beta)*math.cosh(beta*h)**2 - 2*math.sinh(2*J*beta))**(-0.5)*(1.0*J*math.exp(2*J*beta)*math.cosh(beta*h)**2 - 2.0*J*math.cosh(2*J*beta) + 1.0*h*math.exp(2*J*beta)*math.sinh(beta*h)*math.cosh(beta*h)))**2/((math.exp(2*J*beta)*math.cosh(beta*h)**2 - 2*math.sinh(2*J*beta))**0.5 + math.exp(J*beta)*math.cosh(beta*h))**2)/((-(math.exp(2*J*beta)*math.cosh(beta*h)**2 - 2*math.sinh(2*J*beta))**0.5 + math.exp(J*beta)*math.cosh(beta*h))**N + ((math.exp(2*J*beta)*math.cosh(beta*h)**2 - 2*math.sinh(2*J*beta))**0.5 + math.exp(J*beta)*math.cosh(beta*h))**N)'"
      ]
     },
     "execution_count": 8,
     "metadata": {},
     "output_type": "execute_result"
    }
   ],
   "source": [
    "sm.pycode(cv)"
   ]
  },
  {
   "cell_type": "code",
   "execution_count": 9,
   "id": "533f7449-a1e6-4ccc-b1ae-576f6efd75b1",
   "metadata": {},
   "outputs": [
    {
     "data": {
      "text/latex": [
       "$\\displaystyle \\frac{\\frac{N \\left(- \\frac{1.0 \\beta e^{2 J \\beta} \\sinh{\\left(\\beta h \\right)} \\cosh{\\left(\\beta h \\right)}}{\\left(e^{2 J \\beta} \\cosh^{2}{\\left(\\beta h \\right)} - 2 \\sinh{\\left(2 J \\beta \\right)}\\right)^{0.5}} + \\beta e^{J \\beta} \\sinh{\\left(\\beta h \\right)}\\right) \\left(- \\left(e^{2 J \\beta} \\cosh^{2}{\\left(\\beta h \\right)} - 2 \\sinh{\\left(2 J \\beta \\right)}\\right)^{0.5} + e^{J \\beta} \\cosh{\\left(\\beta h \\right)}\\right)^{N}}{- \\left(e^{2 J \\beta} \\cosh^{2}{\\left(\\beta h \\right)} - 2 \\sinh{\\left(2 J \\beta \\right)}\\right)^{0.5} + e^{J \\beta} \\cosh{\\left(\\beta h \\right)}} + \\frac{N \\left(\\frac{1.0 \\beta e^{2 J \\beta} \\sinh{\\left(\\beta h \\right)} \\cosh{\\left(\\beta h \\right)}}{\\left(e^{2 J \\beta} \\cosh^{2}{\\left(\\beta h \\right)} - 2 \\sinh{\\left(2 J \\beta \\right)}\\right)^{0.5}} + \\beta e^{J \\beta} \\sinh{\\left(\\beta h \\right)}\\right) \\left(\\left(e^{2 J \\beta} \\cosh^{2}{\\left(\\beta h \\right)} - 2 \\sinh{\\left(2 J \\beta \\right)}\\right)^{0.5} + e^{J \\beta} \\cosh{\\left(\\beta h \\right)}\\right)^{N}}{\\left(e^{2 J \\beta} \\cosh^{2}{\\left(\\beta h \\right)} - 2 \\sinh{\\left(2 J \\beta \\right)}\\right)^{0.5} + e^{J \\beta} \\cosh{\\left(\\beta h \\right)}}}{\\beta \\left(\\left(- \\left(e^{2 J \\beta} \\cosh^{2}{\\left(\\beta h \\right)} - 2 \\sinh{\\left(2 J \\beta \\right)}\\right)^{0.5} + e^{J \\beta} \\cosh{\\left(\\beta h \\right)}\\right)^{N} + \\left(\\left(e^{2 J \\beta} \\cosh^{2}{\\left(\\beta h \\right)} - 2 \\sinh{\\left(2 J \\beta \\right)}\\right)^{0.5} + e^{J \\beta} \\cosh{\\left(\\beta h \\right)}\\right)^{N}\\right)}$"
      ],
      "text/plain": [
       "(N*(-1.0*beta*exp(2*J*beta)*sinh(beta*h)*cosh(beta*h)/(exp(2*J*beta)*cosh(beta*h)**2 - 2*sinh(2*J*beta))**0.5 + beta*exp(J*beta)*sinh(beta*h))*(-(exp(2*J*beta)*cosh(beta*h)**2 - 2*sinh(2*J*beta))**0.5 + exp(J*beta)*cosh(beta*h))**N/(-(exp(2*J*beta)*cosh(beta*h)**2 - 2*sinh(2*J*beta))**0.5 + exp(J*beta)*cosh(beta*h)) + N*(1.0*beta*exp(2*J*beta)*sinh(beta*h)*cosh(beta*h)/(exp(2*J*beta)*cosh(beta*h)**2 - 2*sinh(2*J*beta))**0.5 + beta*exp(J*beta)*sinh(beta*h))*((exp(2*J*beta)*cosh(beta*h)**2 - 2*sinh(2*J*beta))**0.5 + exp(J*beta)*cosh(beta*h))**N/((exp(2*J*beta)*cosh(beta*h)**2 - 2*sinh(2*J*beta))**0.5 + exp(J*beta)*cosh(beta*h)))/(beta*((-(exp(2*J*beta)*cosh(beta*h)**2 - 2*sinh(2*J*beta))**0.5 + exp(J*beta)*cosh(beta*h))**N + ((exp(2*J*beta)*cosh(beta*h)**2 - 2*sinh(2*J*beta))**0.5 + exp(J*beta)*cosh(beta*h))**N))"
      ]
     },
     "execution_count": 9,
     "metadata": {},
     "output_type": "execute_result"
    }
   ],
   "source": [
    "magnetization = sm.diff(sm.log(Z), h) / beta\n",
    "magnetization"
   ]
  },
  {
   "cell_type": "code",
   "execution_count": 10,
   "id": "ed16a766-8523-4e5e-9e35-8848c42eefa3",
   "metadata": {
    "scrolled": true
   },
   "outputs": [
    {
     "data": {
      "text/plain": [
       "'(N*(-1.0*beta*(math.exp(2*J*beta)*math.cosh(beta*h)**2 - 2*math.sinh(2*J*beta))**(-0.5)*math.exp(2*J*beta)*math.sinh(beta*h)*math.cosh(beta*h) + beta*math.exp(J*beta)*math.sinh(beta*h))*(-(math.exp(2*J*beta)*math.cosh(beta*h)**2 - 2*math.sinh(2*J*beta))**0.5 + math.exp(J*beta)*math.cosh(beta*h))**N/(-(math.exp(2*J*beta)*math.cosh(beta*h)**2 - 2*math.sinh(2*J*beta))**0.5 + math.exp(J*beta)*math.cosh(beta*h)) + N*(1.0*beta*(math.exp(2*J*beta)*math.cosh(beta*h)**2 - 2*math.sinh(2*J*beta))**(-0.5)*math.exp(2*J*beta)*math.sinh(beta*h)*math.cosh(beta*h) + beta*math.exp(J*beta)*math.sinh(beta*h))*((math.exp(2*J*beta)*math.cosh(beta*h)**2 - 2*math.sinh(2*J*beta))**0.5 + math.exp(J*beta)*math.cosh(beta*h))**N/((math.exp(2*J*beta)*math.cosh(beta*h)**2 - 2*math.sinh(2*J*beta))**0.5 + math.exp(J*beta)*math.cosh(beta*h)))/(beta*((-(math.exp(2*J*beta)*math.cosh(beta*h)**2 - 2*math.sinh(2*J*beta))**0.5 + math.exp(J*beta)*math.cosh(beta*h))**N + ((math.exp(2*J*beta)*math.cosh(beta*h)**2 - 2*math.sinh(2*J*beta))**0.5 + math.exp(J*beta)*math.cosh(beta*h))**N))'"
      ]
     },
     "execution_count": 10,
     "metadata": {},
     "output_type": "execute_result"
    }
   ],
   "source": [
    "sm.pycode(magnetization)"
   ]
  },
  {
   "cell_type": "code",
   "execution_count": 11,
   "id": "0af1dc46-6795-4cc8-aa23-8a515b718818",
   "metadata": {},
   "outputs": [
    {
     "data": {
      "text/latex": [
       "$\\displaystyle \\frac{\\left(- \\frac{N \\left(- \\frac{1.0 \\beta e^{2 J \\beta} \\sinh{\\left(\\beta h \\right)} \\cosh{\\left(\\beta h \\right)}}{\\left(e^{2 J \\beta} \\cosh^{2}{\\left(\\beta h \\right)} - 2 \\sinh{\\left(2 J \\beta \\right)}\\right)^{0.5}} + \\beta e^{J \\beta} \\sinh{\\left(\\beta h \\right)}\\right) \\left(- \\left(e^{2 J \\beta} \\cosh^{2}{\\left(\\beta h \\right)} - 2 \\sinh{\\left(2 J \\beta \\right)}\\right)^{0.5} + e^{J \\beta} \\cosh{\\left(\\beta h \\right)}\\right)^{N}}{- \\left(e^{2 J \\beta} \\cosh^{2}{\\left(\\beta h \\right)} - 2 \\sinh{\\left(2 J \\beta \\right)}\\right)^{0.5} + e^{J \\beta} \\cosh{\\left(\\beta h \\right)}} - \\frac{N \\left(\\frac{1.0 \\beta e^{2 J \\beta} \\sinh{\\left(\\beta h \\right)} \\cosh{\\left(\\beta h \\right)}}{\\left(e^{2 J \\beta} \\cosh^{2}{\\left(\\beta h \\right)} - 2 \\sinh{\\left(2 J \\beta \\right)}\\right)^{0.5}} + \\beta e^{J \\beta} \\sinh{\\left(\\beta h \\right)}\\right) \\left(\\left(e^{2 J \\beta} \\cosh^{2}{\\left(\\beta h \\right)} - 2 \\sinh{\\left(2 J \\beta \\right)}\\right)^{0.5} + e^{J \\beta} \\cosh{\\left(\\beta h \\right)}\\right)^{N}}{\\left(e^{2 J \\beta} \\cosh^{2}{\\left(\\beta h \\right)} - 2 \\sinh{\\left(2 J \\beta \\right)}\\right)^{0.5} + e^{J \\beta} \\cosh{\\left(\\beta h \\right)}}\\right) \\left(\\frac{N \\left(- \\frac{1.0 \\beta e^{2 J \\beta} \\sinh{\\left(\\beta h \\right)} \\cosh{\\left(\\beta h \\right)}}{\\left(e^{2 J \\beta} \\cosh^{2}{\\left(\\beta h \\right)} - 2 \\sinh{\\left(2 J \\beta \\right)}\\right)^{0.5}} + \\beta e^{J \\beta} \\sinh{\\left(\\beta h \\right)}\\right) \\left(- \\left(e^{2 J \\beta} \\cosh^{2}{\\left(\\beta h \\right)} - 2 \\sinh{\\left(2 J \\beta \\right)}\\right)^{0.5} + e^{J \\beta} \\cosh{\\left(\\beta h \\right)}\\right)^{N}}{- \\left(e^{2 J \\beta} \\cosh^{2}{\\left(\\beta h \\right)} - 2 \\sinh{\\left(2 J \\beta \\right)}\\right)^{0.5} + e^{J \\beta} \\cosh{\\left(\\beta h \\right)}} + \\frac{N \\left(\\frac{1.0 \\beta e^{2 J \\beta} \\sinh{\\left(\\beta h \\right)} \\cosh{\\left(\\beta h \\right)}}{\\left(e^{2 J \\beta} \\cosh^{2}{\\left(\\beta h \\right)} - 2 \\sinh{\\left(2 J \\beta \\right)}\\right)^{0.5}} + \\beta e^{J \\beta} \\sinh{\\left(\\beta h \\right)}\\right) \\left(\\left(e^{2 J \\beta} \\cosh^{2}{\\left(\\beta h \\right)} - 2 \\sinh{\\left(2 J \\beta \\right)}\\right)^{0.5} + e^{J \\beta} \\cosh{\\left(\\beta h \\right)}\\right)^{N}}{\\left(e^{2 J \\beta} \\cosh^{2}{\\left(\\beta h \\right)} - 2 \\sinh{\\left(2 J \\beta \\right)}\\right)^{0.5} + e^{J \\beta} \\cosh{\\left(\\beta h \\right)}}\\right)}{\\beta \\left(\\left(- \\left(e^{2 J \\beta} \\cosh^{2}{\\left(\\beta h \\right)} - 2 \\sinh{\\left(2 J \\beta \\right)}\\right)^{0.5} + e^{J \\beta} \\cosh{\\left(\\beta h \\right)}\\right)^{N} + \\left(\\left(e^{2 J \\beta} \\cosh^{2}{\\left(\\beta h \\right)} - 2 \\sinh{\\left(2 J \\beta \\right)}\\right)^{0.5} + e^{J \\beta} \\cosh{\\left(\\beta h \\right)}\\right)^{N}\\right)^{2}} + \\frac{\\frac{N^{2} \\left(- \\frac{1.0 \\beta e^{2 J \\beta} \\sinh{\\left(\\beta h \\right)} \\cosh{\\left(\\beta h \\right)}}{\\left(e^{2 J \\beta} \\cosh^{2}{\\left(\\beta h \\right)} - 2 \\sinh{\\left(2 J \\beta \\right)}\\right)^{0.5}} + \\beta e^{J \\beta} \\sinh{\\left(\\beta h \\right)}\\right)^{2} \\left(- \\left(e^{2 J \\beta} \\cosh^{2}{\\left(\\beta h \\right)} - 2 \\sinh{\\left(2 J \\beta \\right)}\\right)^{0.5} + e^{J \\beta} \\cosh{\\left(\\beta h \\right)}\\right)^{N}}{\\left(- \\left(e^{2 J \\beta} \\cosh^{2}{\\left(\\beta h \\right)} - 2 \\sinh{\\left(2 J \\beta \\right)}\\right)^{0.5} + e^{J \\beta} \\cosh{\\left(\\beta h \\right)}\\right)^{2}} + \\frac{N^{2} \\left(\\frac{1.0 \\beta e^{2 J \\beta} \\sinh{\\left(\\beta h \\right)} \\cosh{\\left(\\beta h \\right)}}{\\left(e^{2 J \\beta} \\cosh^{2}{\\left(\\beta h \\right)} - 2 \\sinh{\\left(2 J \\beta \\right)}\\right)^{0.5}} + \\beta e^{J \\beta} \\sinh{\\left(\\beta h \\right)}\\right)^{2} \\left(\\left(e^{2 J \\beta} \\cosh^{2}{\\left(\\beta h \\right)} - 2 \\sinh{\\left(2 J \\beta \\right)}\\right)^{0.5} + e^{J \\beta} \\cosh{\\left(\\beta h \\right)}\\right)^{N}}{\\left(\\left(e^{2 J \\beta} \\cosh^{2}{\\left(\\beta h \\right)} - 2 \\sinh{\\left(2 J \\beta \\right)}\\right)^{0.5} + e^{J \\beta} \\cosh{\\left(\\beta h \\right)}\\right)^{2}} + \\frac{N \\left(- \\frac{1.0 \\beta e^{2 J \\beta} \\sinh{\\left(\\beta h \\right)} \\cosh{\\left(\\beta h \\right)}}{\\left(e^{2 J \\beta} \\cosh^{2}{\\left(\\beta h \\right)} - 2 \\sinh{\\left(2 J \\beta \\right)}\\right)^{0.5}} - \\beta e^{J \\beta} \\sinh{\\left(\\beta h \\right)}\\right) \\left(\\frac{1.0 \\beta e^{2 J \\beta} \\sinh{\\left(\\beta h \\right)} \\cosh{\\left(\\beta h \\right)}}{\\left(e^{2 J \\beta} \\cosh^{2}{\\left(\\beta h \\right)} - 2 \\sinh{\\left(2 J \\beta \\right)}\\right)^{0.5}} + \\beta e^{J \\beta} \\sinh{\\left(\\beta h \\right)}\\right) \\left(\\left(e^{2 J \\beta} \\cosh^{2}{\\left(\\beta h \\right)} - 2 \\sinh{\\left(2 J \\beta \\right)}\\right)^{0.5} + e^{J \\beta} \\cosh{\\left(\\beta h \\right)}\\right)^{N}}{\\left(\\left(e^{2 J \\beta} \\cosh^{2}{\\left(\\beta h \\right)} - 2 \\sinh{\\left(2 J \\beta \\right)}\\right)^{0.5} + e^{J \\beta} \\cosh{\\left(\\beta h \\right)}\\right)^{2}} + \\frac{N \\left(- \\frac{1.0 \\beta e^{2 J \\beta} \\sinh{\\left(\\beta h \\right)} \\cosh{\\left(\\beta h \\right)}}{\\left(e^{2 J \\beta} \\cosh^{2}{\\left(\\beta h \\right)} - 2 \\sinh{\\left(2 J \\beta \\right)}\\right)^{0.5}} + \\beta e^{J \\beta} \\sinh{\\left(\\beta h \\right)}\\right) \\left(\\frac{1.0 \\beta e^{2 J \\beta} \\sinh{\\left(\\beta h \\right)} \\cosh{\\left(\\beta h \\right)}}{\\left(e^{2 J \\beta} \\cosh^{2}{\\left(\\beta h \\right)} - 2 \\sinh{\\left(2 J \\beta \\right)}\\right)^{0.5}} - \\beta e^{J \\beta} \\sinh{\\left(\\beta h \\right)}\\right) \\left(- \\left(e^{2 J \\beta} \\cosh^{2}{\\left(\\beta h \\right)} - 2 \\sinh{\\left(2 J \\beta \\right)}\\right)^{0.5} + e^{J \\beta} \\cosh{\\left(\\beta h \\right)}\\right)^{N}}{\\left(- \\left(e^{2 J \\beta} \\cosh^{2}{\\left(\\beta h \\right)} - 2 \\sinh{\\left(2 J \\beta \\right)}\\right)^{0.5} + e^{J \\beta} \\cosh{\\left(\\beta h \\right)}\\right)^{2}} + \\frac{N \\left(\\left(e^{2 J \\beta} \\cosh^{2}{\\left(\\beta h \\right)} - 2 \\sinh{\\left(2 J \\beta \\right)}\\right)^{0.5} + e^{J \\beta} \\cosh{\\left(\\beta h \\right)}\\right)^{N} \\left(- \\frac{1.0 \\beta^{2} e^{4 J \\beta} \\sinh^{2}{\\left(\\beta h \\right)} \\cosh^{2}{\\left(\\beta h \\right)}}{\\left(e^{2 J \\beta} \\cosh^{2}{\\left(\\beta h \\right)} - 2 \\sinh{\\left(2 J \\beta \\right)}\\right)^{1.5}} + \\frac{1.0 \\beta^{2} e^{2 J \\beta} \\sinh^{2}{\\left(\\beta h \\right)}}{\\left(e^{2 J \\beta} \\cosh^{2}{\\left(\\beta h \\right)} - 2 \\sinh{\\left(2 J \\beta \\right)}\\right)^{0.5}} + \\frac{1.0 \\beta^{2} e^{2 J \\beta} \\cosh^{2}{\\left(\\beta h \\right)}}{\\left(e^{2 J \\beta} \\cosh^{2}{\\left(\\beta h \\right)} - 2 \\sinh{\\left(2 J \\beta \\right)}\\right)^{0.5}} + \\beta^{2} e^{J \\beta} \\cosh{\\left(\\beta h \\right)}\\right)}{\\left(e^{2 J \\beta} \\cosh^{2}{\\left(\\beta h \\right)} - 2 \\sinh{\\left(2 J \\beta \\right)}\\right)^{0.5} + e^{J \\beta} \\cosh{\\left(\\beta h \\right)}} + \\frac{N \\left(- \\left(e^{2 J \\beta} \\cosh^{2}{\\left(\\beta h \\right)} - 2 \\sinh{\\left(2 J \\beta \\right)}\\right)^{0.5} + e^{J \\beta} \\cosh{\\left(\\beta h \\right)}\\right)^{N} \\left(\\frac{1.0 \\beta^{2} e^{4 J \\beta} \\sinh^{2}{\\left(\\beta h \\right)} \\cosh^{2}{\\left(\\beta h \\right)}}{\\left(e^{2 J \\beta} \\cosh^{2}{\\left(\\beta h \\right)} - 2 \\sinh{\\left(2 J \\beta \\right)}\\right)^{1.5}} - \\frac{1.0 \\beta^{2} e^{2 J \\beta} \\sinh^{2}{\\left(\\beta h \\right)}}{\\left(e^{2 J \\beta} \\cosh^{2}{\\left(\\beta h \\right)} - 2 \\sinh{\\left(2 J \\beta \\right)}\\right)^{0.5}} - \\frac{1.0 \\beta^{2} e^{2 J \\beta} \\cosh^{2}{\\left(\\beta h \\right)}}{\\left(e^{2 J \\beta} \\cosh^{2}{\\left(\\beta h \\right)} - 2 \\sinh{\\left(2 J \\beta \\right)}\\right)^{0.5}} + \\beta^{2} e^{J \\beta} \\cosh{\\left(\\beta h \\right)}\\right)}{- \\left(e^{2 J \\beta} \\cosh^{2}{\\left(\\beta h \\right)} - 2 \\sinh{\\left(2 J \\beta \\right)}\\right)^{0.5} + e^{J \\beta} \\cosh{\\left(\\beta h \\right)}}}{\\beta \\left(\\left(- \\left(e^{2 J \\beta} \\cosh^{2}{\\left(\\beta h \\right)} - 2 \\sinh{\\left(2 J \\beta \\right)}\\right)^{0.5} + e^{J \\beta} \\cosh{\\left(\\beta h \\right)}\\right)^{N} + \\left(\\left(e^{2 J \\beta} \\cosh^{2}{\\left(\\beta h \\right)} - 2 \\sinh{\\left(2 J \\beta \\right)}\\right)^{0.5} + e^{J \\beta} \\cosh{\\left(\\beta h \\right)}\\right)^{N}\\right)}$"
      ],
      "text/plain": [
       "(-N*(-1.0*beta*exp(2*J*beta)*sinh(beta*h)*cosh(beta*h)/(exp(2*J*beta)*cosh(beta*h)**2 - 2*sinh(2*J*beta))**0.5 + beta*exp(J*beta)*sinh(beta*h))*(-(exp(2*J*beta)*cosh(beta*h)**2 - 2*sinh(2*J*beta))**0.5 + exp(J*beta)*cosh(beta*h))**N/(-(exp(2*J*beta)*cosh(beta*h)**2 - 2*sinh(2*J*beta))**0.5 + exp(J*beta)*cosh(beta*h)) - N*(1.0*beta*exp(2*J*beta)*sinh(beta*h)*cosh(beta*h)/(exp(2*J*beta)*cosh(beta*h)**2 - 2*sinh(2*J*beta))**0.5 + beta*exp(J*beta)*sinh(beta*h))*((exp(2*J*beta)*cosh(beta*h)**2 - 2*sinh(2*J*beta))**0.5 + exp(J*beta)*cosh(beta*h))**N/((exp(2*J*beta)*cosh(beta*h)**2 - 2*sinh(2*J*beta))**0.5 + exp(J*beta)*cosh(beta*h)))*(N*(-1.0*beta*exp(2*J*beta)*sinh(beta*h)*cosh(beta*h)/(exp(2*J*beta)*cosh(beta*h)**2 - 2*sinh(2*J*beta))**0.5 + beta*exp(J*beta)*sinh(beta*h))*(-(exp(2*J*beta)*cosh(beta*h)**2 - 2*sinh(2*J*beta))**0.5 + exp(J*beta)*cosh(beta*h))**N/(-(exp(2*J*beta)*cosh(beta*h)**2 - 2*sinh(2*J*beta))**0.5 + exp(J*beta)*cosh(beta*h)) + N*(1.0*beta*exp(2*J*beta)*sinh(beta*h)*cosh(beta*h)/(exp(2*J*beta)*cosh(beta*h)**2 - 2*sinh(2*J*beta))**0.5 + beta*exp(J*beta)*sinh(beta*h))*((exp(2*J*beta)*cosh(beta*h)**2 - 2*sinh(2*J*beta))**0.5 + exp(J*beta)*cosh(beta*h))**N/((exp(2*J*beta)*cosh(beta*h)**2 - 2*sinh(2*J*beta))**0.5 + exp(J*beta)*cosh(beta*h)))/(beta*((-(exp(2*J*beta)*cosh(beta*h)**2 - 2*sinh(2*J*beta))**0.5 + exp(J*beta)*cosh(beta*h))**N + ((exp(2*J*beta)*cosh(beta*h)**2 - 2*sinh(2*J*beta))**0.5 + exp(J*beta)*cosh(beta*h))**N)**2) + (N**2*(-1.0*beta*exp(2*J*beta)*sinh(beta*h)*cosh(beta*h)/(exp(2*J*beta)*cosh(beta*h)**2 - 2*sinh(2*J*beta))**0.5 + beta*exp(J*beta)*sinh(beta*h))**2*(-(exp(2*J*beta)*cosh(beta*h)**2 - 2*sinh(2*J*beta))**0.5 + exp(J*beta)*cosh(beta*h))**N/(-(exp(2*J*beta)*cosh(beta*h)**2 - 2*sinh(2*J*beta))**0.5 + exp(J*beta)*cosh(beta*h))**2 + N**2*(1.0*beta*exp(2*J*beta)*sinh(beta*h)*cosh(beta*h)/(exp(2*J*beta)*cosh(beta*h)**2 - 2*sinh(2*J*beta))**0.5 + beta*exp(J*beta)*sinh(beta*h))**2*((exp(2*J*beta)*cosh(beta*h)**2 - 2*sinh(2*J*beta))**0.5 + exp(J*beta)*cosh(beta*h))**N/((exp(2*J*beta)*cosh(beta*h)**2 - 2*sinh(2*J*beta))**0.5 + exp(J*beta)*cosh(beta*h))**2 + N*(-1.0*beta*exp(2*J*beta)*sinh(beta*h)*cosh(beta*h)/(exp(2*J*beta)*cosh(beta*h)**2 - 2*sinh(2*J*beta))**0.5 - beta*exp(J*beta)*sinh(beta*h))*(1.0*beta*exp(2*J*beta)*sinh(beta*h)*cosh(beta*h)/(exp(2*J*beta)*cosh(beta*h)**2 - 2*sinh(2*J*beta))**0.5 + beta*exp(J*beta)*sinh(beta*h))*((exp(2*J*beta)*cosh(beta*h)**2 - 2*sinh(2*J*beta))**0.5 + exp(J*beta)*cosh(beta*h))**N/((exp(2*J*beta)*cosh(beta*h)**2 - 2*sinh(2*J*beta))**0.5 + exp(J*beta)*cosh(beta*h))**2 + N*(-1.0*beta*exp(2*J*beta)*sinh(beta*h)*cosh(beta*h)/(exp(2*J*beta)*cosh(beta*h)**2 - 2*sinh(2*J*beta))**0.5 + beta*exp(J*beta)*sinh(beta*h))*(1.0*beta*exp(2*J*beta)*sinh(beta*h)*cosh(beta*h)/(exp(2*J*beta)*cosh(beta*h)**2 - 2*sinh(2*J*beta))**0.5 - beta*exp(J*beta)*sinh(beta*h))*(-(exp(2*J*beta)*cosh(beta*h)**2 - 2*sinh(2*J*beta))**0.5 + exp(J*beta)*cosh(beta*h))**N/(-(exp(2*J*beta)*cosh(beta*h)**2 - 2*sinh(2*J*beta))**0.5 + exp(J*beta)*cosh(beta*h))**2 + N*((exp(2*J*beta)*cosh(beta*h)**2 - 2*sinh(2*J*beta))**0.5 + exp(J*beta)*cosh(beta*h))**N*(-1.0*beta**2*exp(4*J*beta)*sinh(beta*h)**2*cosh(beta*h)**2/(exp(2*J*beta)*cosh(beta*h)**2 - 2*sinh(2*J*beta))**1.5 + 1.0*beta**2*exp(2*J*beta)*sinh(beta*h)**2/(exp(2*J*beta)*cosh(beta*h)**2 - 2*sinh(2*J*beta))**0.5 + 1.0*beta**2*exp(2*J*beta)*cosh(beta*h)**2/(exp(2*J*beta)*cosh(beta*h)**2 - 2*sinh(2*J*beta))**0.5 + beta**2*exp(J*beta)*cosh(beta*h))/((exp(2*J*beta)*cosh(beta*h)**2 - 2*sinh(2*J*beta))**0.5 + exp(J*beta)*cosh(beta*h)) + N*(-(exp(2*J*beta)*cosh(beta*h)**2 - 2*sinh(2*J*beta))**0.5 + exp(J*beta)*cosh(beta*h))**N*(1.0*beta**2*exp(4*J*beta)*sinh(beta*h)**2*cosh(beta*h)**2/(exp(2*J*beta)*cosh(beta*h)**2 - 2*sinh(2*J*beta))**1.5 - 1.0*beta**2*exp(2*J*beta)*sinh(beta*h)**2/(exp(2*J*beta)*cosh(beta*h)**2 - 2*sinh(2*J*beta))**0.5 - 1.0*beta**2*exp(2*J*beta)*cosh(beta*h)**2/(exp(2*J*beta)*cosh(beta*h)**2 - 2*sinh(2*J*beta))**0.5 + beta**2*exp(J*beta)*cosh(beta*h))/(-(exp(2*J*beta)*cosh(beta*h)**2 - 2*sinh(2*J*beta))**0.5 + exp(J*beta)*cosh(beta*h)))/(beta*((-(exp(2*J*beta)*cosh(beta*h)**2 - 2*sinh(2*J*beta))**0.5 + exp(J*beta)*cosh(beta*h))**N + ((exp(2*J*beta)*cosh(beta*h)**2 - 2*sinh(2*J*beta))**0.5 + exp(J*beta)*cosh(beta*h))**N))"
      ]
     },
     "execution_count": 11,
     "metadata": {},
     "output_type": "execute_result"
    }
   ],
   "source": [
    "susceptibility = sm.diff(magnetization, h)\n",
    "susceptibility"
   ]
  },
  {
   "cell_type": "code",
   "execution_count": 12,
   "id": "e370a2df-201b-4bf6-b1c8-9da6f956e20e",
   "metadata": {},
   "outputs": [
    {
     "data": {
      "text/plain": [
       "'(-N*(-1.0*beta*(math.exp(2*J*beta)*math.cosh(beta*h)**2 - 2*math.sinh(2*J*beta))**(-0.5)*math.exp(2*J*beta)*math.sinh(beta*h)*math.cosh(beta*h) + beta*math.exp(J*beta)*math.sinh(beta*h))*(-(math.exp(2*J*beta)*math.cosh(beta*h)**2 - 2*math.sinh(2*J*beta))**0.5 + math.exp(J*beta)*math.cosh(beta*h))**N/(-(math.exp(2*J*beta)*math.cosh(beta*h)**2 - 2*math.sinh(2*J*beta))**0.5 + math.exp(J*beta)*math.cosh(beta*h)) - N*(1.0*beta*(math.exp(2*J*beta)*math.cosh(beta*h)**2 - 2*math.sinh(2*J*beta))**(-0.5)*math.exp(2*J*beta)*math.sinh(beta*h)*math.cosh(beta*h) + beta*math.exp(J*beta)*math.sinh(beta*h))*((math.exp(2*J*beta)*math.cosh(beta*h)**2 - 2*math.sinh(2*J*beta))**0.5 + math.exp(J*beta)*math.cosh(beta*h))**N/((math.exp(2*J*beta)*math.cosh(beta*h)**2 - 2*math.sinh(2*J*beta))**0.5 + math.exp(J*beta)*math.cosh(beta*h)))*(N*(-1.0*beta*(math.exp(2*J*beta)*math.cosh(beta*h)**2 - 2*math.sinh(2*J*beta))**(-0.5)*math.exp(2*J*beta)*math.sinh(beta*h)*math.cosh(beta*h) + beta*math.exp(J*beta)*math.sinh(beta*h))*(-(math.exp(2*J*beta)*math.cosh(beta*h)**2 - 2*math.sinh(2*J*beta))**0.5 + math.exp(J*beta)*math.cosh(beta*h))**N/(-(math.exp(2*J*beta)*math.cosh(beta*h)**2 - 2*math.sinh(2*J*beta))**0.5 + math.exp(J*beta)*math.cosh(beta*h)) + N*(1.0*beta*(math.exp(2*J*beta)*math.cosh(beta*h)**2 - 2*math.sinh(2*J*beta))**(-0.5)*math.exp(2*J*beta)*math.sinh(beta*h)*math.cosh(beta*h) + beta*math.exp(J*beta)*math.sinh(beta*h))*((math.exp(2*J*beta)*math.cosh(beta*h)**2 - 2*math.sinh(2*J*beta))**0.5 + math.exp(J*beta)*math.cosh(beta*h))**N/((math.exp(2*J*beta)*math.cosh(beta*h)**2 - 2*math.sinh(2*J*beta))**0.5 + math.exp(J*beta)*math.cosh(beta*h)))/(beta*((-(math.exp(2*J*beta)*math.cosh(beta*h)**2 - 2*math.sinh(2*J*beta))**0.5 + math.exp(J*beta)*math.cosh(beta*h))**N + ((math.exp(2*J*beta)*math.cosh(beta*h)**2 - 2*math.sinh(2*J*beta))**0.5 + math.exp(J*beta)*math.cosh(beta*h))**N)**2) + (N**2*(-1.0*beta*(math.exp(2*J*beta)*math.cosh(beta*h)**2 - 2*math.sinh(2*J*beta))**(-0.5)*math.exp(2*J*beta)*math.sinh(beta*h)*math.cosh(beta*h) + beta*math.exp(J*beta)*math.sinh(beta*h))**2*(-(math.exp(2*J*beta)*math.cosh(beta*h)**2 - 2*math.sinh(2*J*beta))**0.5 + math.exp(J*beta)*math.cosh(beta*h))**N/(-(math.exp(2*J*beta)*math.cosh(beta*h)**2 - 2*math.sinh(2*J*beta))**0.5 + math.exp(J*beta)*math.cosh(beta*h))**2 + N**2*(1.0*beta*(math.exp(2*J*beta)*math.cosh(beta*h)**2 - 2*math.sinh(2*J*beta))**(-0.5)*math.exp(2*J*beta)*math.sinh(beta*h)*math.cosh(beta*h) + beta*math.exp(J*beta)*math.sinh(beta*h))**2*((math.exp(2*J*beta)*math.cosh(beta*h)**2 - 2*math.sinh(2*J*beta))**0.5 + math.exp(J*beta)*math.cosh(beta*h))**N/((math.exp(2*J*beta)*math.cosh(beta*h)**2 - 2*math.sinh(2*J*beta))**0.5 + math.exp(J*beta)*math.cosh(beta*h))**2 + N*(-1.0*beta*(math.exp(2*J*beta)*math.cosh(beta*h)**2 - 2*math.sinh(2*J*beta))**(-0.5)*math.exp(2*J*beta)*math.sinh(beta*h)*math.cosh(beta*h) - beta*math.exp(J*beta)*math.sinh(beta*h))*(1.0*beta*(math.exp(2*J*beta)*math.cosh(beta*h)**2 - 2*math.sinh(2*J*beta))**(-0.5)*math.exp(2*J*beta)*math.sinh(beta*h)*math.cosh(beta*h) + beta*math.exp(J*beta)*math.sinh(beta*h))*((math.exp(2*J*beta)*math.cosh(beta*h)**2 - 2*math.sinh(2*J*beta))**0.5 + math.exp(J*beta)*math.cosh(beta*h))**N/((math.exp(2*J*beta)*math.cosh(beta*h)**2 - 2*math.sinh(2*J*beta))**0.5 + math.exp(J*beta)*math.cosh(beta*h))**2 + N*(-1.0*beta*(math.exp(2*J*beta)*math.cosh(beta*h)**2 - 2*math.sinh(2*J*beta))**(-0.5)*math.exp(2*J*beta)*math.sinh(beta*h)*math.cosh(beta*h) + beta*math.exp(J*beta)*math.sinh(beta*h))*(1.0*beta*(math.exp(2*J*beta)*math.cosh(beta*h)**2 - 2*math.sinh(2*J*beta))**(-0.5)*math.exp(2*J*beta)*math.sinh(beta*h)*math.cosh(beta*h) - beta*math.exp(J*beta)*math.sinh(beta*h))*(-(math.exp(2*J*beta)*math.cosh(beta*h)**2 - 2*math.sinh(2*J*beta))**0.5 + math.exp(J*beta)*math.cosh(beta*h))**N/(-(math.exp(2*J*beta)*math.cosh(beta*h)**2 - 2*math.sinh(2*J*beta))**0.5 + math.exp(J*beta)*math.cosh(beta*h))**2 + N*((math.exp(2*J*beta)*math.cosh(beta*h)**2 - 2*math.sinh(2*J*beta))**0.5 + math.exp(J*beta)*math.cosh(beta*h))**N*(-1.0*beta**2*(math.exp(2*J*beta)*math.cosh(beta*h)**2 - 2*math.sinh(2*J*beta))**(-1.5)*math.exp(4*J*beta)*math.sinh(beta*h)**2*math.cosh(beta*h)**2 + 1.0*beta**2*(math.exp(2*J*beta)*math.cosh(beta*h)**2 - 2*math.sinh(2*J*beta))**(-0.5)*math.exp(2*J*beta)*math.sinh(beta*h)**2 + 1.0*beta**2*(math.exp(2*J*beta)*math.cosh(beta*h)**2 - 2*math.sinh(2*J*beta))**(-0.5)*math.exp(2*J*beta)*math.cosh(beta*h)**2 + beta**2*math.exp(J*beta)*math.cosh(beta*h))/((math.exp(2*J*beta)*math.cosh(beta*h)**2 - 2*math.sinh(2*J*beta))**0.5 + math.exp(J*beta)*math.cosh(beta*h)) + N*(-(math.exp(2*J*beta)*math.cosh(beta*h)**2 - 2*math.sinh(2*J*beta))**0.5 + math.exp(J*beta)*math.cosh(beta*h))**N*(1.0*beta**2*(math.exp(2*J*beta)*math.cosh(beta*h)**2 - 2*math.sinh(2*J*beta))**(-1.5)*math.exp(4*J*beta)*math.sinh(beta*h)**2*math.cosh(beta*h)**2 - 1.0*beta**2*(math.exp(2*J*beta)*math.cosh(beta*h)**2 - 2*math.sinh(2*J*beta))**(-0.5)*math.exp(2*J*beta)*math.sinh(beta*h)**2 - 1.0*beta**2*(math.exp(2*J*beta)*math.cosh(beta*h)**2 - 2*math.sinh(2*J*beta))**(-0.5)*math.exp(2*J*beta)*math.cosh(beta*h)**2 + beta**2*math.exp(J*beta)*math.cosh(beta*h))/(-(math.exp(2*J*beta)*math.cosh(beta*h)**2 - 2*math.sinh(2*J*beta))**0.5 + math.exp(J*beta)*math.cosh(beta*h)))/(beta*((-(math.exp(2*J*beta)*math.cosh(beta*h)**2 - 2*math.sinh(2*J*beta))**0.5 + math.exp(J*beta)*math.cosh(beta*h))**N + ((math.exp(2*J*beta)*math.cosh(beta*h)**2 - 2*math.sinh(2*J*beta))**0.5 + math.exp(J*beta)*math.cosh(beta*h))**N))'"
      ]
     },
     "execution_count": 12,
     "metadata": {},
     "output_type": "execute_result"
    }
   ],
   "source": [
    "sm.pycode(susceptibility)"
   ]
  },
  {
   "cell_type": "code",
   "execution_count": 13,
   "id": "977c49ac-5fb4-471e-a0a0-8ce0e11c6f7d",
   "metadata": {},
   "outputs": [
    {
     "data": {
      "text/latex": [
       "$\\displaystyle - \\frac{\\frac{N \\left(\\left(e^{2 J \\beta} \\cosh^{2}{\\left(\\beta h \\right)} - 2 \\sinh{\\left(2 J \\beta \\right)}\\right)^{0.5} + e^{J \\beta} \\cosh{\\left(\\beta h \\right)}\\right)^{N} \\left(J e^{J \\beta} \\cosh{\\left(\\beta h \\right)} + h e^{J \\beta} \\sinh{\\left(\\beta h \\right)} + \\frac{1.0 J e^{2 J \\beta} \\cosh^{2}{\\left(\\beta h \\right)} - 2.0 J \\cosh{\\left(2 J \\beta \\right)} + 1.0 h e^{2 J \\beta} \\sinh{\\left(\\beta h \\right)} \\cosh{\\left(\\beta h \\right)}}{\\left(e^{2 J \\beta} \\cosh^{2}{\\left(\\beta h \\right)} - 2 \\sinh{\\left(2 J \\beta \\right)}\\right)^{0.5}}\\right)}{\\left(e^{2 J \\beta} \\cosh^{2}{\\left(\\beta h \\right)} - 2 \\sinh{\\left(2 J \\beta \\right)}\\right)^{0.5} + e^{J \\beta} \\cosh{\\left(\\beta h \\right)}} + \\frac{N \\left(- \\left(e^{2 J \\beta} \\cosh^{2}{\\left(\\beta h \\right)} - 2 \\sinh{\\left(2 J \\beta \\right)}\\right)^{0.5} + e^{J \\beta} \\cosh{\\left(\\beta h \\right)}\\right)^{N} \\left(J e^{J \\beta} \\cosh{\\left(\\beta h \\right)} + h e^{J \\beta} \\sinh{\\left(\\beta h \\right)} - \\frac{1.0 J e^{2 J \\beta} \\cosh^{2}{\\left(\\beta h \\right)} - 2.0 J \\cosh{\\left(2 J \\beta \\right)} + 1.0 h e^{2 J \\beta} \\sinh{\\left(\\beta h \\right)} \\cosh{\\left(\\beta h \\right)}}{\\left(e^{2 J \\beta} \\cosh^{2}{\\left(\\beta h \\right)} - 2 \\sinh{\\left(2 J \\beta \\right)}\\right)^{0.5}}\\right)}{- \\left(e^{2 J \\beta} \\cosh^{2}{\\left(\\beta h \\right)} - 2 \\sinh{\\left(2 J \\beta \\right)}\\right)^{0.5} + e^{J \\beta} \\cosh{\\left(\\beta h \\right)}}}{N \\left(\\left(- \\left(e^{2 J \\beta} \\cosh^{2}{\\left(\\beta h \\right)} - 2 \\sinh{\\left(2 J \\beta \\right)}\\right)^{0.5} + e^{J \\beta} \\cosh{\\left(\\beta h \\right)}\\right)^{N} + \\left(\\left(e^{2 J \\beta} \\cosh^{2}{\\left(\\beta h \\right)} - 2 \\sinh{\\left(2 J \\beta \\right)}\\right)^{0.5} + e^{J \\beta} \\cosh{\\left(\\beta h \\right)}\\right)^{N}\\right)}$"
      ],
      "text/plain": [
       "-(N*((exp(2*J*beta)*cosh(beta*h)**2 - 2*sinh(2*J*beta))**0.5 + exp(J*beta)*cosh(beta*h))**N*(J*exp(J*beta)*cosh(beta*h) + h*exp(J*beta)*sinh(beta*h) + (1.0*J*exp(2*J*beta)*cosh(beta*h)**2 - 2.0*J*cosh(2*J*beta) + 1.0*h*exp(2*J*beta)*sinh(beta*h)*cosh(beta*h))/(exp(2*J*beta)*cosh(beta*h)**2 - 2*sinh(2*J*beta))**0.5)/((exp(2*J*beta)*cosh(beta*h)**2 - 2*sinh(2*J*beta))**0.5 + exp(J*beta)*cosh(beta*h)) + N*(-(exp(2*J*beta)*cosh(beta*h)**2 - 2*sinh(2*J*beta))**0.5 + exp(J*beta)*cosh(beta*h))**N*(J*exp(J*beta)*cosh(beta*h) + h*exp(J*beta)*sinh(beta*h) - (1.0*J*exp(2*J*beta)*cosh(beta*h)**2 - 2.0*J*cosh(2*J*beta) + 1.0*h*exp(2*J*beta)*sinh(beta*h)*cosh(beta*h))/(exp(2*J*beta)*cosh(beta*h)**2 - 2*sinh(2*J*beta))**0.5)/(-(exp(2*J*beta)*cosh(beta*h)**2 - 2*sinh(2*J*beta))**0.5 + exp(J*beta)*cosh(beta*h)))/(N*((-(exp(2*J*beta)*cosh(beta*h)**2 - 2*sinh(2*J*beta))**0.5 + exp(J*beta)*cosh(beta*h))**N + ((exp(2*J*beta)*cosh(beta*h)**2 - 2*sinh(2*J*beta))**0.5 + exp(J*beta)*cosh(beta*h))**N))"
      ]
     },
     "execution_count": 13,
     "metadata": {},
     "output_type": "execute_result"
    }
   ],
   "source": [
    "internal_energy = - sm.diff(sm.log(Z), beta) / N\n",
    "internal_energy"
   ]
  },
  {
   "cell_type": "code",
   "execution_count": 19,
   "id": "200a65be-bc61-4db7-9186-04ff206d0e79",
   "metadata": {},
   "outputs": [
    {
     "data": {
      "text/plain": [
       "'-(N*((math.exp(2*J*beta)*math.cosh(beta*h)**2 - 2*math.sinh(2*J*beta))**0.5 + math.exp(J*beta)*math.cosh(beta*h))**N*(J*math.exp(J*beta)*math.cosh(beta*h) + h*math.exp(J*beta)*math.sinh(beta*h) + (math.exp(2*J*beta)*math.cosh(beta*h)**2 - 2*math.sinh(2*J*beta))**(-0.5)*(1.0*J*math.exp(2*J*beta)*math.cosh(beta*h)**2 - 2.0*J*math.cosh(2*J*beta) + 1.0*h*math.exp(2*J*beta)*math.sinh(beta*h)*math.cosh(beta*h)))/((math.exp(2*J*beta)*math.cosh(beta*h)**2 - 2*math.sinh(2*J*beta))**0.5 + math.exp(J*beta)*math.cosh(beta*h)) + N*(-(math.exp(2*J*beta)*math.cosh(beta*h)**2 - 2*math.sinh(2*J*beta))**0.5 + math.exp(J*beta)*math.cosh(beta*h))**N*(J*math.exp(J*beta)*math.cosh(beta*h) + h*math.exp(J*beta)*math.sinh(beta*h) - (math.exp(2*J*beta)*math.cosh(beta*h)**2 - 2*math.sinh(2*J*beta))**(-0.5)*(1.0*J*math.exp(2*J*beta)*math.cosh(beta*h)**2 - 2.0*J*math.cosh(2*J*beta) + 1.0*h*math.exp(2*J*beta)*math.sinh(beta*h)*math.cosh(beta*h)))/(-(math.exp(2*J*beta)*math.cosh(beta*h)**2 - 2*math.sinh(2*J*beta))**0.5 + math.exp(J*beta)*math.cosh(beta*h)))/(N*((-(math.exp(2*J*beta)*math.cosh(beta*h)**2 - 2*math.sinh(2*J*beta))**0.5 + math.exp(J*beta)*math.cosh(beta*h))**N + ((math.exp(2*J*beta)*math.cosh(beta*h)**2 - 2*math.sinh(2*J*beta))**0.5 + math.exp(J*beta)*math.cosh(beta*h))**N))'"
      ]
     },
     "execution_count": 19,
     "metadata": {},
     "output_type": "execute_result"
    }
   ],
   "source": [
    "sm.pycode(internal_energy)"
   ]
  }
 ],
 "metadata": {
  "kernelspec": {
   "display_name": "Python 3 (ipykernel)",
   "language": "python",
   "name": "python3"
  },
  "language_info": {
   "codemirror_mode": {
    "name": "ipython",
    "version": 3
   },
   "file_extension": ".py",
   "mimetype": "text/x-python",
   "name": "python",
   "nbconvert_exporter": "python",
   "pygments_lexer": "ipython3",
   "version": "3.12.8"
  }
 },
 "nbformat": 4,
 "nbformat_minor": 5
}
